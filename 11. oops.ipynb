{
 "cells": [
  {
   "cell_type": "markdown",
   "metadata": {},
   "source": [
    "# Class and Objects \n",
    "\n",
    "Object oriented programming [OOP] is a programming paradigm that uses objects to design applications and computer programmes. OOP allows for modelling real world scenarios using classes and objects. a class is a blueprint for creating objects."
   ]
  },
  {
   "cell_type": "code",
   "execution_count": 1,
   "metadata": {},
   "outputs": [
    {
     "name": "stdout",
     "output_type": "stream",
     "text": [
      "<class '__main__.Car'>\n"
     ]
    }
   ],
   "source": [
    "class Car:\n",
    "    pass\n",
    "\n",
    "audi = Car()\n",
    "\n",
    "print(type(audi))"
   ]
  },
  {
   "cell_type": "markdown",
   "metadata": {},
   "source": [
    "`self` is used as a good practice reference the object attributes. You can use any word. \n",
    "If self is not mentioned inside the constructor, when passing the `self.name` the name value from the `name` varible, it would reference the global and wont know where the data is.\n",
    "\n",
    "Something needs to be passed but not necessarily. self"
   ]
  },
  {
   "cell_type": "code",
   "execution_count": 2,
   "metadata": {},
   "outputs": [
    {
     "name": "stdout",
     "output_type": "stream",
     "text": [
      "Buddy is barking (baby it's your birthday)\n",
      "Buddy 9\n"
     ]
    }
   ],
   "source": [
    "### Instance Variables and Methods\n",
    "class Dog:\n",
    "    def __init__(crushsname,name, age):\n",
    "        crushsname.name = name\n",
    "        crushsname.age = age\n",
    "\n",
    "    def bark(crushsname):\n",
    "        print(f\"{crushsname.name} is barking (baby it's your birthday)\")\n",
    "\n",
    "## create a new Dog object\n",
    "dog1 = Dog(\"Buddy\", 9)\n",
    "dog1.bark()\n",
    "print(dog1.name, dog1.age)"
   ]
  },
  {
   "cell_type": "code",
   "execution_count": 3,
   "metadata": {},
   "outputs": [
    {
     "name": "stdout",
     "output_type": "stream",
     "text": [
      "Crush\n"
     ]
    }
   ],
   "source": [
    "### Modeling a bank account\n",
    "\n",
    "### A class for bank account\n",
    "class BankAccount:\n",
    "    def __init__(holder, owner, balance=0):\n",
    "        holder.owner = owner\n",
    "        holder.balance = balance\n",
    "\n",
    "    def deposit(holder, amount):\n",
    "        holder.balance += amount\n",
    "        print(f\"{amount} has been deposited to your account. New balance is {holder.balance}\")\n",
    "\n",
    "    def withdraw(holder, amount):\n",
    "        if amount > holder.balance:\n",
    "            print(\"Insufficient funds\")\n",
    "        else:\n",
    "            holder.balance -= amount\n",
    "            print(f\"{amount} has been withdrawn from your account. New balance is {holder.balance}\")\n",
    "\n",
    "    def get_balance(holder):\n",
    "        return f\"Your account balance is {holder.balance}\"\n",
    "        \n",
    "        \n",
    "account = BankAccount(\"Crush\", 9242104)\n",
    "print(account.owner)"
   ]
  },
  {
   "cell_type": "code",
   "execution_count": 6,
   "metadata": {},
   "outputs": [
    {
     "name": "stdout",
     "output_type": "stream",
     "text": [
      "1000 has been deposited to your account. New balance is 9244104\n"
     ]
    }
   ],
   "source": [
    "### call instance method\n",
    "\n",
    "account.deposit(1000)"
   ]
  },
  {
   "cell_type": "code",
   "execution_count": 8,
   "metadata": {},
   "outputs": [
    {
     "name": "stdout",
     "output_type": "stream",
     "text": [
      "3000 has been withdrawn from your account. New balance is 9238104\n"
     ]
    }
   ],
   "source": [
    "account.withdraw(3000)"
   ]
  },
  {
   "cell_type": "code",
   "execution_count": 4,
   "metadata": {},
   "outputs": [
    {
     "name": "stdout",
     "output_type": "stream",
     "text": [
      "Your account balance is 9242104\n"
     ]
    }
   ],
   "source": [
    "print(account.get_balance())"
   ]
  }
 ],
 "metadata": {
  "kernelspec": {
   "display_name": "Python 3",
   "language": "python",
   "name": "python3"
  },
  "language_info": {
   "codemirror_mode": {
    "name": "ipython",
    "version": 3
   },
   "file_extension": ".py",
   "mimetype": "text/x-python",
   "name": "python",
   "nbconvert_exporter": "python",
   "pygments_lexer": "ipython3",
   "version": "3.11.9"
  }
 },
 "nbformat": 4,
 "nbformat_minor": 2
}
