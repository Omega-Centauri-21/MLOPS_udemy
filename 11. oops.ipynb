{
 "cells": [
  {
   "cell_type": "markdown",
   "metadata": {},
   "source": [
    "# Class and Objects \n",
    "\n",
    "Object oriented programming [OOP] is a programming paradigm that uses objects to design applications and computer programmes. OOP allows for modelling real world scenarios using classes and objects. a class is a blueprint for creating objects."
   ]
  },
  {
   "cell_type": "code",
   "execution_count": 1,
   "metadata": {},
   "outputs": [
    {
     "name": "stdout",
     "output_type": "stream",
     "text": [
      "<class '__main__.Car'>\n"
     ]
    }
   ],
   "source": [
    "class Car:\n",
    "    pass\n",
    "\n",
    "audi = Car()\n",
    "\n",
    "print(type(audi))"
   ]
  },
  {
   "cell_type": "markdown",
   "metadata": {},
   "source": [
    "`self` is used as a good practice reference the object attributes. You can use any word. \n",
    "If self is not mentioned inside the constructor, when passing the `self.name` the name value from the `name` varible, it would reference the global and wont know where the data is.\n",
    "\n",
    "Something needs to be passed but not necessarily. self"
   ]
  },
  {
   "cell_type": "code",
   "execution_count": 2,
   "metadata": {},
   "outputs": [
    {
     "name": "stdout",
     "output_type": "stream",
     "text": [
      "Buddy is barking (baby it's your birthday)\n",
      "Buddy 9\n"
     ]
    }
   ],
   "source": [
    "### Instance Variables and Methods\n",
    "class Dog:\n",
    "    def __init__(crushsname,name, age):\n",
    "        crushsname.name = name\n",
    "        crushsname.age = age\n",
    "\n",
    "    def bark(crushsname):\n",
    "        print(f\"{crushsname.name} is barking (baby it's your birthday)\")\n",
    "\n",
    "## create a new Dog object\n",
    "dog1 = Dog(\"Buddy\", 9)\n",
    "dog1.bark()\n",
    "print(dog1.name, dog1.age)"
   ]
  },
  {
   "cell_type": "code",
   "execution_count": 3,
   "metadata": {},
   "outputs": [
    {
     "name": "stdout",
     "output_type": "stream",
     "text": [
      "Crush\n"
     ]
    }
   ],
   "source": [
    "### Modeling a bank account\n",
    "\n",
    "### A class for bank account\n",
    "class BankAccount:\n",
    "    def __init__(holder, owner, balance=0):\n",
    "        holder.owner = owner\n",
    "        holder.balance = balance\n",
    "\n",
    "    def deposit(holder, amount):\n",
    "        holder.balance += amount\n",
    "        print(f\"{amount} has been deposited to your account. New balance is {holder.balance}\")\n",
    "\n",
    "    def withdraw(holder, amount):\n",
    "        if amount > holder.balance:\n",
    "            print(\"Insufficient funds\")\n",
    "        else:\n",
    "            holder.balance -= amount\n",
    "            print(f\"{amount} has been withdrawn from your account. New balance is {holder.balance}\")\n",
    "\n",
    "    def get_balance(holder):\n",
    "        return f\"Your account balance is {holder.balance}\"\n",
    "        \n",
    "        \n",
    "account = BankAccount(\"Crush\", 9242104)\n",
    "print(account.owner)"
   ]
  },
  {
   "cell_type": "code",
   "execution_count": 6,
   "metadata": {},
   "outputs": [
    {
     "name": "stdout",
     "output_type": "stream",
     "text": [
      "1000 has been deposited to your account. New balance is 9244104\n"
     ]
    }
   ],
   "source": [
    "### call instance method\n",
    "\n",
    "account.deposit(1000)"
   ]
  },
  {
   "cell_type": "code",
   "execution_count": 8,
   "metadata": {},
   "outputs": [
    {
     "name": "stdout",
     "output_type": "stream",
     "text": [
      "3000 has been withdrawn from your account. New balance is 9238104\n"
     ]
    }
   ],
   "source": [
    "account.withdraw(3000)"
   ]
  },
  {
   "cell_type": "code",
   "execution_count": 5,
   "metadata": {},
   "outputs": [
    {
     "name": "stdout",
     "output_type": "stream",
     "text": [
      "Your account balance is 9242104\n"
     ]
    }
   ],
   "source": [
    "print(account.get_balance())"
   ]
  },
  {
   "cell_type": "markdown",
   "metadata": {},
   "source": [
    "### Inheritance\n",
    "A concept in OOP allows a class to inherit the attributes and methods from another class. \n",
    "\n",
    "attributes == instance variable"
   ]
  },
  {
   "cell_type": "code",
   "execution_count": 22,
   "metadata": {},
   "outputs": [],
   "source": [
    "### Parent Class\n",
    "class Car:\n",
    "    def __init__(self, windows, doors, enginetype):\n",
    "        self.windows = windows\n",
    "        self.doors = doors\n",
    "        self.enginetype = enginetype\n",
    "\n",
    "    def drive(self):\n",
    "        print(f\"The person drives the car with the engine type of __{self.enginetype}__\")\n"
   ]
  },
  {
   "cell_type": "code",
   "execution_count": 23,
   "metadata": {},
   "outputs": [
    {
     "name": "stdout",
     "output_type": "stream",
     "text": [
      "The person drives the car with the engine type of __Petrol__\n"
     ]
    }
   ],
   "source": [
    "bmw = Car(6, 4, \"Petrol\")\n",
    "bmw.drive()"
   ]
  },
  {
   "cell_type": "code",
   "execution_count": null,
   "metadata": {},
   "outputs": [],
   "source": [
    "### Child class inheriting from parent class\n",
    "### Single Inheritance\n",
    "\n",
    "class Tesla(Car): # Tesla is the child class and Car is the parent class.\n",
    "    def __init__(self, windows, doors, enginetype, is_selfdrive):\n",
    "        # super() is used to call the parent class constructor\n",
    "        super().__init__(windows, doors, enginetype)\n",
    "        self.is_selfdrive = is_selfdrive\n",
    "\n",
    "    def self_drive(self):\n",
    "        print(f\"Tesla supports self driving: __{self.is_selfdrive}__\")\n"
   ]
  },
  {
   "cell_type": "code",
   "execution_count": 26,
   "metadata": {},
   "outputs": [
    {
     "name": "stdout",
     "output_type": "stream",
     "text": [
      "Tesla supports self driving: __True__\n",
      "The person drives the car with the engine type of __Electric__\n"
     ]
    }
   ],
   "source": [
    "s_series = Tesla(4, 4, \"Electric\", True)\n",
    "s_series.self_drive()\n",
    "s_series.drive()"
   ]
  },
  {
   "cell_type": "markdown",
   "metadata": {},
   "source": [
    "### Polymorphism\n",
    "\n",
    "Another core concept\n",
    "Allows objects of different classes to be treated as objects of common superclass.\n",
    "> Provides a method to perform a single action in different forms. \n",
    ">> It is typically achieved through overriding and overwriting(interfaces) \n"
   ]
  },
  {
   "cell_type": "markdown",
   "metadata": {},
   "source": [
    "#### Methods Overriding\n",
    "\n",
    "Method overriding allows a child class to provide a specific implementation of a method that is already defined in its parent class."
   ]
  },
  {
   "cell_type": "code",
   "execution_count": 4,
   "metadata": {},
   "outputs": [
    {
     "name": "stdout",
     "output_type": "stream",
     "text": [
      "Dog barking Woof!\n",
      "Cat meowing Meow!\n",
      "Dog barking Woof!\n"
     ]
    }
   ],
   "source": [
    "# Base class\n",
    "\n",
    "class Animal:\n",
    "    def speak(self):\n",
    "        return \"Animal Speaking\"\n",
    "    \n",
    "# Derived class\n",
    "class Dog(Animal):\n",
    "    def speak(self):\n",
    "        return \"Dog barking Woof!\"\n",
    "    \n",
    "# Derived class\n",
    "class Cat(Animal):\n",
    "    def speak(self):\n",
    "        return \"Cat meowing Meow!\"\n",
    "    \n",
    "# Function that demostrates polymorphism\n",
    "def animal_speak(animal):\n",
    "    return animal.speak()\n",
    "    \n",
    "dog = Dog()\n",
    "cat = Cat()\n",
    "\n",
    "print(dog.speak())\n",
    "print(cat.speak())\n",
    "print(animal_speak(dog))"
   ]
  },
  {
   "cell_type": "markdown",
   "metadata": {},
   "source": [
    "### Polymorphism with ABC\n",
    "\n",
    "Abstract Base Class (ABCs) are used to define common methods for a group of related objects. They can enforce that derived classes implement particular methods, promoting consistency across different implementations."
   ]
  },
  {
   "cell_type": "code",
   "execution_count": 6,
   "metadata": {},
   "outputs": [
    {
     "name": "stdout",
     "output_type": "stream",
     "text": [
      "Car engine started\n"
     ]
    }
   ],
   "source": [
    "from abc import ABC, abstractmethod\n",
    "\n",
    "## Define an abstract class\n",
    "class Vehicle(ABC):\n",
    "    @abstractmethod\n",
    "    def start_engine(self):\n",
    "        pass\n",
    "\n",
    "## derived class 1\n",
    "class Car(Vehicle):\n",
    "    def start_engine(self):\n",
    "        print(\"Car engine started\")\n",
    "\n",
    "## derived class 2\n",
    "class Motorcycle(Vehicle):\n",
    "    def start_engine(self):\n",
    "        print(\"Motorcycle engine started\")\n",
    "\n",
    "## function to start engine for Polymorphism Demo\n",
    "def start_engine(vehicle):\n",
    "    vehicle.start_engine()\n",
    "## create objects of car and motorcycle\n",
    "car = Car()\n",
    "motorcycle = Motorcycle()\n",
    "\n",
    "start_engine(car)\n"
   ]
  },
  {
   "cell_type": "markdown",
   "metadata": {},
   "source": [
    "### Encapsulation\n",
    "\n",
    "Concept of wrapping data (variables) and methods (functions) together as a single unit. It restricts direct access to some of the objects's components, which is a means of preventing accidental interference and misuse of the data."
   ]
  },
  {
   "cell_type": "markdown",
   "metadata": {},
   "source": [
    "#### General Public case \n",
    "Public variable that can be accesses from outside"
   ]
  },
  {
   "cell_type": "code",
   "execution_count": null,
   "metadata": {},
   "outputs": [
    {
     "data": {
      "text/plain": [
       "'Nilanjan'"
      ]
     },
     "execution_count": 11,
     "metadata": {},
     "output_type": "execute_result"
    }
   ],
   "source": [
    "### Encapsulation with Getter and Setter Method\n",
    "### Public, protcted, private variables or access modifiers\n",
    "\n",
    "class Person:\n",
    "    def __init__(self, name, age):\n",
    "        self.name = name    # public variable, can be accessed from outside\n",
    "        self.age = age      # public variable\n",
    "\n",
    "def get_name(person):\n",
    "    return person.name\n",
    "\n",
    "person = Person(\"Nilanjan\", 24)\n",
    "# print(person.name)\n",
    "get_name(person)   "
   ]
  },
  {
   "cell_type": "markdown",
   "metadata": {},
   "source": [
    "#### Private variables \n",
    "How to declare and they aren't accessible from outside."
   ]
  },
  {
   "cell_type": "code",
   "execution_count": 18,
   "metadata": {},
   "outputs": [
    {
     "name": "stdout",
     "output_type": "stream",
     "text": [
      "Error: 'Person' object has no attribute '__name' \n",
      " because in this case, name is a private variable\n"
     ]
    }
   ],
   "source": [
    "class Person:\n",
    "    def __init__(self, name, age, gender):\n",
    "        self.__name = name    # private variable, can't be accessed from outside\n",
    "        self.__age = age      # private variable\n",
    "        self.gender = gender # public variable\n",
    "\n",
    "def getname(person):\n",
    "    try:\n",
    "        return person.__name\n",
    "    except AttributeError as e:\n",
    "        return f\"Error: {e} \\n because in this case, name is a private variable\"\n",
    "\n",
    "person = Person(\"Nilanjan\", 24, \"M\")\n",
    "print(getname(person))"
   ]
  },
  {
   "cell_type": "markdown",
   "metadata": {},
   "source": [
    "#### Protected variables\n",
    "\n",
    "How to declare and they aren't accessible from outside.\n"
   ]
  },
  {
   "cell_type": "code",
   "execution_count": 19,
   "metadata": {},
   "outputs": [
    {
     "name": "stdout",
     "output_type": "stream",
     "text": [
      "Nilanjan\n"
     ]
    }
   ],
   "source": [
    "class Person:\n",
    "    def __init__(self, name, age, gender):\n",
    "        self._name = name    # Protected variable, cannout use it outside the class\n",
    "        self._age = age      # Protected variable\n",
    "\n",
    "class Employee(Person):\n",
    "    def __init__(self, name, age, gender):\n",
    "        super().__init__(name, age, gender)\n",
    "\n",
    "emplyee = Employee(\"Nilanjan\", 24, \"M\")\n",
    "print(emplyee._name)\n"
   ]
  },
  {
   "cell_type": "markdown",
   "metadata": {},
   "source": [
    "#### Encapsulation with Getter and Setter method"
   ]
  },
  {
   "cell_type": "code",
   "execution_count": 20,
   "metadata": {},
   "outputs": [
    {
     "name": "stdout",
     "output_type": "stream",
     "text": [
      "Nilanjan\n",
      "None\n",
      "OmagaMega\n"
     ]
    }
   ],
   "source": [
    "class Person:\n",
    "    def __init__(self, name, age):\n",
    "        self.__name = name  # private access modifier or variable\n",
    "        self.__age = age   # Private variable\n",
    "\n",
    "    # Getter method for name\n",
    "    # to get the name\n",
    "    def get_name(self):\n",
    "        return self.__name\n",
    "    \n",
    "    # Setter method for name \n",
    "    # to change the name\n",
    "    def set_name(self, name):\n",
    "        self.__name = name\n",
    "\n",
    "\n",
    "person = Person(\"Nilanjan\", 24)\n",
    "\n",
    "## Access and modify private variables using getter and setter\n",
    "\n",
    "print(person.get_name())\n",
    "print(person.set_name(\"OmagaMega\"))\n",
    "print(person.get_name())"
   ]
  },
  {
   "cell_type": "markdown",
   "metadata": {},
   "source": [
    "### Abstraction\n",
    "\n",
    "Abstraction is a concept of hiding the complex implementation details and showing only the necessary features of an object. This helps in reducing programming complexity and effort."
   ]
  }
 ],
 "metadata": {
  "kernelspec": {
   "display_name": "Python 3",
   "language": "python",
   "name": "python3"
  },
  "language_info": {
   "codemirror_mode": {
    "name": "ipython",
    "version": 3
   },
   "file_extension": ".py",
   "mimetype": "text/x-python",
   "name": "python",
   "nbconvert_exporter": "python",
   "pygments_lexer": "ipython3",
   "version": "3.11.9"
  }
 },
 "nbformat": 4,
 "nbformat_minor": 2
}
