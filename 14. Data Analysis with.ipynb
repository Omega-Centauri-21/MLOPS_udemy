{
 "cells": [
  {
   "cell_type": "markdown",
   "metadata": {},
   "source": [
    "## Numpy\n",
    "\n",
    "Provides supports for arrays and matricces, along with a large collection of mathematical functions."
   ]
  },
  {
   "cell_type": "code",
   "execution_count": 11,
   "metadata": {},
   "outputs": [
    {
     "name": "stdout",
     "output_type": "stream",
     "text": [
      "[1 2 3 4 5]\n",
      "[[1 2 3]\n",
      " [4 5 6]]\n",
      "Shape of Array [1 2 3 4 5] is (5,)\n",
      "Shape of Array [[1 2 3]\n",
      " [4 5 6]] is (2, 3)\n"
     ]
    }
   ],
   "source": [
    "import numpy as np\n",
    "\n",
    "\n",
    "## create an array with numpy\n",
    "arr1 = np.array([1, 2, 3, 4, 5])\n",
    "print(arr1)\n",
    "\n",
    "## create a 2D array\n",
    "arr2 = np.array([[1, 2, 3], [4, 5, 6]])\n",
    "print(arr2)\n",
    "\n",
    "## shape of array\n",
    "print(f\"Shape of Array {arr1} is\",arr1.shape)\n",
    "print(f\"Shape of Array {arr2} is\",arr2.shape)\n",
    "\n"
   ]
  },
  {
   "cell_type": "code",
   "execution_count": 28,
   "metadata": {},
   "outputs": [
    {
     "name": "stdout",
     "output_type": "stream",
     "text": [
      "Original Array: [1 2 3 4 5 6 7 8 9]\n",
      "Reshaped Array: [[1 2 3]\n",
      " [4 5 6]\n",
      " [7 8 9]]\n",
      "Original Array: [0 2 4 6 8]\n",
      "Reshaped Array: [[0]\n",
      " [2]\n",
      " [4]\n",
      " [6]\n",
      " [8]]\n",
      "Original Array: [1 2 3 4 5 6 7 8 9]\n",
      "Reshaped Array: [[1]\n",
      " [2]\n",
      " [3]\n",
      " [4]\n",
      " [5]\n",
      " [6]\n",
      " [7]\n",
      " [8]\n",
      " [9]]\n",
      "Original Array: [[1 2 3]\n",
      " [4 5 6]]\n",
      "Flattened Array: [1 2 3 4 5 6]\n",
      "Original Array: [[1 2 3]\n",
      " [4 5 6]]\n",
      "Transposed Array: [[1 4]\n",
      " [2 5]\n",
      " [3 6]]\n"
     ]
    }
   ],
   "source": [
    "## reshape an array\n",
    "\n",
    "## (i,j) -> i rows and j columns\n",
    "\n",
    "arr3 = np.array([1, 2, 3, 4, 5, 6, 7, 8, 9])\n",
    "print(\"Original Array:\", arr3)\n",
    "arr3 = arr3.reshape(3, 3)\n",
    "print(\"Reshaped Array:\", arr3)\n",
    "\n",
    "arr4 = np.arange(0,10,2)\n",
    "print(\"Original Array:\", arr4)\n",
    "print(\"Reshaped Array:\", arr4.reshape(5,1))\n",
    "\n",
    "arr5 = np.array([1, 2, 3, 4, 5, 6, 7, 8, 9])\n",
    "print(\"Original Array:\", arr5)\n",
    "print(\"Reshaped Array:\", arr5.reshape(9, 1))\n",
    "\n",
    "## flatten an array\n",
    "arr6 = np.array([[1, 2, 3], [4, 5, 6]])\n",
    "print(\"Original Array:\", arr6)\n",
    "print(\"Flattened Array:\", arr6.flatten())\n",
    "\n",
    "## transpose an array\n",
    "arr7 = np.array([[1, 2, 3], [4, 5, 6]])\n",
    "print(\"Original Array:\", arr7)\n",
    "print(\"Transposed Array:\", arr7.T)"
   ]
  },
  {
   "cell_type": "code",
   "execution_count": 32,
   "metadata": {},
   "outputs": [
    {
     "name": "stdout",
     "output_type": "stream",
     "text": [
      "[[0.         1.         1.41421356 1.73205081 2.        ]\n",
      " [2.23606798 2.44948974 2.64575131 2.82842712 3.        ]]\n"
     ]
    }
   ],
   "source": [
    "## array square root\n",
    "print(np.sqrt(np.arange(0, 10)).reshape(2, 5))"
   ]
  },
  {
   "cell_type": "code",
   "execution_count": 35,
   "metadata": {},
   "outputs": [
    {
     "name": "stdout",
     "output_type": "stream",
     "text": [
      "Array: \n",
      " [[ 0  1  2  3]\n",
      " [ 4  5  6  7]\n",
      " [ 8  9 10 11]]\n"
     ]
    }
   ],
   "source": [
    "arr8 = np.arange(0,12).reshape(3,4)\n",
    "print(\"Array: \\n\", arr8)"
   ]
  },
  {
   "cell_type": "code",
   "execution_count": 47,
   "metadata": {},
   "outputs": [
    {
     "name": "stdout",
     "output_type": "stream",
     "text": [
      " :  0\n",
      " :  [[ 6  7]\n",
      " [10 11]]\n",
      " :  [[6]]\n",
      " :  [[2 3]\n",
      " [6 7]]\n"
     ]
    }
   ],
   "source": [
    "print(\" : \",arr8[0][0])\n",
    "print(\" : \", arr8[1:,2:])\n",
    "print(\" : \",arr8[1:2,2:3])\n",
    "print(\" : \",arr8[0:2,2:])"
   ]
  },
  {
   "cell_type": "markdown",
   "metadata": {},
   "source": [
    "### Statistical Concept"
   ]
  },
  {
   "cell_type": "markdown",
   "metadata": {},
   "source": [
    "#### Normalization"
   ]
  },
  {
   "cell_type": "code",
   "execution_count": null,
   "metadata": {},
   "outputs": [
    {
     "name": "stdout",
     "output_type": "stream",
     "text": [
      "Normalized Data: [-1.41421356 -0.70710678  0.          0.70710678  1.41421356]\n"
     ]
    }
   ],
   "source": [
    "## to have a mean of zero and std of 1\n",
    "\n",
    "data = np.arange(0, 5)\n",
    "\n",
    "# calculate mean and std\n",
    "\n",
    "mean = np.mean(data)\n",
    "std_dev = np.std(data)\n",
    "\n",
    "# Normalize the data\n",
    "normalized_data = (data - mean) / std_dev # formula\n",
    "print(\"Normalized Data:\", normalized_data)"
   ]
  },
  {
   "cell_type": "markdown",
   "metadata": {},
   "source": [
    "#### Logical Operations"
   ]
  },
  {
   "cell_type": "code",
   "execution_count": 54,
   "metadata": {},
   "outputs": [
    {
     "data": {
      "text/plain": [
       "array([ 6,  7,  8,  9, 10])"
      ]
     },
     "execution_count": 54,
     "metadata": {},
     "output_type": "execute_result"
    }
   ],
   "source": [
    "data = np.arange(1,11)\n",
    "data[data>5]"
   ]
  },
  {
   "cell_type": "code",
   "execution_count": 59,
   "metadata": {},
   "outputs": [
    {
     "name": "stdout",
     "output_type": "stream",
     "text": [
      "[6 7]\n",
      "[ 1  2  3  8  9 10]\n"
     ]
    }
   ],
   "source": [
    "print(data[ (data>5) & (data<8) ])\n",
    "\n",
    "print(data[ (data<=3) | (data>=8) ])"
   ]
  },
  {
   "cell_type": "markdown",
   "metadata": {},
   "source": [
    "## Pandas-DataFrame and Series"
   ]
  },
  {
   "cell_type": "code",
   "execution_count": 93,
   "metadata": {},
   "outputs": [],
   "source": [
    "import pandas as pd"
   ]
  },
  {
   "cell_type": "code",
   "execution_count": 94,
   "metadata": {},
   "outputs": [
    {
     "name": "stdout",
     "output_type": "stream",
     "text": [
      "Series\n",
      " 0    1\n",
      "1    2\n",
      "2    3\n",
      "3    4\n",
      "dtype: int64\n"
     ]
    }
   ],
   "source": [
    "## Series from a list\n",
    "\n",
    "data = np.arange(1,5)\n",
    "series = pd.Series(data)\n",
    "print(\"Series\\n\",series)"
   ]
  },
  {
   "cell_type": "code",
   "execution_count": 95,
   "metadata": {},
   "outputs": [
    {
     "name": "stdout",
     "output_type": "stream",
     "text": [
      "Series from Dictionary\n",
      " a    1\n",
      "b    2\n",
      "c    3\n",
      "d    4\n",
      "dtype: int64\n"
     ]
    }
   ],
   "source": [
    "## Series from a dictionary\n",
    "\n",
    "data = {'a': 1, 'b': 2, 'c': 3, 'd': 4}\n",
    "series_dict = pd.Series(data)\n",
    "print(\"Series from Dictionary\\n\",series_dict)"
   ]
  },
  {
   "cell_type": "code",
   "execution_count": 96,
   "metadata": {},
   "outputs": [
    {
     "data": {
      "text/plain": [
       "a    10\n",
       "b    20\n",
       "c    30\n",
       "dtype: int64"
      ]
     },
     "execution_count": 96,
     "metadata": {},
     "output_type": "execute_result"
    }
   ],
   "source": [
    "data = [10, 20, 30]\n",
    "index = ['a', 'b', 'c']\n",
    "\n",
    "pd.Series(data, index=index)"
   ]
  },
  {
   "cell_type": "code",
   "execution_count": 97,
   "metadata": {},
   "outputs": [
    {
     "name": "stdout",
     "output_type": "stream",
     "text": [
      "Dataframe from Dictionary of List\n",
      "      Name  Age         City\n",
      "0     Tom   20     New York\n",
      "1   Jerry   21  Los Angeles\n",
      "2  Mickey   22      Chicago\n",
      "3  Donald   23      Houston\n",
      "<class 'pandas.core.frame.DataFrame'>\n"
     ]
    }
   ],
   "source": [
    "## Dataframe from a dictionary of list\n",
    "\n",
    "data = {'Name': ['Tom', 'Jerry', 'Mickey', 'Donald'],\n",
    "        'Age': [20, 21, 22, 23],\n",
    "        'City': ['New York', 'Los Angeles', 'Chicago', 'Houston']\n",
    "        }\n",
    "\n",
    "df = pd.DataFrame(data)\n",
    "print(\"Dataframe from Dictionary of List\\n\",df)\n",
    "print(type(df))"
   ]
  },
  {
   "cell_type": "code",
   "execution_count": 98,
   "metadata": {},
   "outputs": [
    {
     "name": "stdout",
     "output_type": "stream",
     "text": [
      "Dataframe from List of Dictionary\n",
      "      Name  Age         City\n",
      "0     Tom   20     New York\n",
      "1   Jerry   21  Los Angeles\n",
      "2  Mickey   22      Chicago\n",
      "3  Donald   23      Houston\n",
      "<class 'pandas.core.frame.DataFrame'>\n"
     ]
    }
   ],
   "source": [
    "## Create a DataFrame from a list of dictionaries\n",
    "\n",
    "data = [{'Name': 'Tom', 'Age': 20, 'City': 'New York'}, \n",
    "            {'Name': 'Jerry', 'Age': 21, 'City': 'Los Angeles'}, \n",
    "                {'Name': 'Mickey', 'Age': 22, 'City': 'Chicago'}, \n",
    "                    {'Name': 'Donald', 'Age': 23, 'City': 'Houston'}\n",
    "        ]\n",
    "\n",
    "df = pd.DataFrame(data)\n",
    "print(\"Dataframe from List of Dictionary\\n\",df)\n",
    "print(type(df))"
   ]
  },
  {
   "cell_type": "code",
   "execution_count": 99,
   "metadata": {},
   "outputs": [
    {
     "data": {
      "text/html": [
       "<div>\n",
       "<style scoped>\n",
       "    .dataframe tbody tr th:only-of-type {\n",
       "        vertical-align: middle;\n",
       "    }\n",
       "\n",
       "    .dataframe tbody tr th {\n",
       "        vertical-align: top;\n",
       "    }\n",
       "\n",
       "    .dataframe thead th {\n",
       "        text-align: right;\n",
       "    }\n",
       "</style>\n",
       "<table border=\"1\" class=\"dataframe\">\n",
       "  <thead>\n",
       "    <tr style=\"text-align: right;\">\n",
       "      <th></th>\n",
       "      <th>name</th>\n",
       "      <th>age</th>\n",
       "      <th>city</th>\n",
       "    </tr>\n",
       "  </thead>\n",
       "  <tbody>\n",
       "    <tr>\n",
       "      <th>0</th>\n",
       "      <td>Nilanjan</td>\n",
       "      <td>21</td>\n",
       "      <td>Kolkata</td>\n",
       "    </tr>\n",
       "    <tr>\n",
       "      <th>1</th>\n",
       "      <td>Vikram</td>\n",
       "      <td>22</td>\n",
       "      <td>Delhi</td>\n",
       "    </tr>\n",
       "    <tr>\n",
       "      <th>2</th>\n",
       "      <td>Rahul</td>\n",
       "      <td>23</td>\n",
       "      <td>Mumbai</td>\n",
       "    </tr>\n",
       "    <tr>\n",
       "      <th>3</th>\n",
       "      <td>Snigdha</td>\n",
       "      <td>24</td>\n",
       "      <td>Chennai</td>\n",
       "    </tr>\n",
       "    <tr>\n",
       "      <th>4</th>\n",
       "      <td>Tina</td>\n",
       "      <td>25</td>\n",
       "      <td>Kolkata</td>\n",
       "    </tr>\n",
       "  </tbody>\n",
       "</table>\n",
       "</div>"
      ],
      "text/plain": [
       "       name  age     city\n",
       "0  Nilanjan   21  Kolkata\n",
       "1    Vikram   22    Delhi\n",
       "2     Rahul   23   Mumbai\n",
       "3   Snigdha   24  Chennai\n",
       "4      Tina   25  Kolkata"
      ]
     },
     "execution_count": 99,
     "metadata": {},
     "output_type": "execute_result"
    }
   ],
   "source": [
    "df = pd.read_csv('example.csv')\n",
    "df.head()"
   ]
  },
  {
   "cell_type": "code",
   "execution_count": 100,
   "metadata": {},
   "outputs": [
    {
     "data": {
      "text/plain": [
       "0     Nilanjan\n",
       "1       Vikram\n",
       "2        Rahul\n",
       "3      Snigdha\n",
       "4         Tina\n",
       "5        Jyoti\n",
       "6        Pooja\n",
       "7        Pinki\n",
       "8         Esha\n",
       "9          Raj\n",
       "10      Trisha\n",
       "11        Yash\n",
       "12      Urzaan\n",
       "13      Ishaan\n",
       "14        Ojas\n",
       "15      Pranav\n",
       "16      Adarsh\n",
       "17     Shubham\n",
       "18     Darshan\n",
       "19      Faisal\n",
       "20     Gaikwad\n",
       "21       Hetal\n",
       "22       Janvi\n",
       "23       Karan\n",
       "24      Leslie\n",
       "25        Zara\n",
       "26        Xylo\n",
       "27        Cara\n",
       "28       Vicky\n",
       "29      Bhavna\n",
       "30        Neha\n",
       "31        Mona\n",
       "Name: name, dtype: object"
      ]
     },
     "execution_count": 100,
     "metadata": {},
     "output_type": "execute_result"
    }
   ],
   "source": [
    "df['name']"
   ]
  },
  {
   "cell_type": "code",
   "execution_count": 101,
   "metadata": {},
   "outputs": [
    {
     "data": {
      "text/plain": [
       "pandas.core.series.Series"
      ]
     },
     "execution_count": 101,
     "metadata": {},
     "output_type": "execute_result"
    }
   ],
   "source": [
    "type(df['name'])"
   ]
  },
  {
   "cell_type": "code",
   "execution_count": 102,
   "metadata": {},
   "outputs": [
    {
     "data": {
      "text/plain": [
       "name    Nilanjan\n",
       "age           21\n",
       "city     Kolkata\n",
       "Name: 0, dtype: object"
      ]
     },
     "execution_count": 102,
     "metadata": {},
     "output_type": "execute_result"
    }
   ],
   "source": [
    "df.loc[0] # to access row baased on numbering"
   ]
  },
  {
   "cell_type": "code",
   "execution_count": 103,
   "metadata": {},
   "outputs": [
    {
     "data": {
      "text/plain": [
       "name    Nilanjan\n",
       "age           21\n",
       "city     Kolkata\n",
       "Name: 0, dtype: object"
      ]
     },
     "execution_count": 103,
     "metadata": {},
     "output_type": "execute_result"
    }
   ],
   "source": [
    "df.iloc[0] # to access column based on numbering"
   ]
  },
  {
   "cell_type": "code",
   "execution_count": 104,
   "metadata": {},
   "outputs": [
    {
     "data": {
      "text/plain": [
       "'Nilanjan'"
      ]
     },
     "execution_count": 104,
     "metadata": {},
     "output_type": "execute_result"
    }
   ],
   "source": [
    "## Accessing a specific element in the dataframe\n",
    "\n",
    "df.at[0, 'name']"
   ]
  },
  {
   "cell_type": "code",
   "execution_count": 105,
   "metadata": {},
   "outputs": [
    {
     "data": {
      "text/plain": [
       "'Nilanjan'"
      ]
     },
     "execution_count": 105,
     "metadata": {},
     "output_type": "execute_result"
    }
   ],
   "source": [
    "## Accessing specified element using iat\n",
    "\n",
    "df.iat[0, 0]"
   ]
  },
  {
   "cell_type": "markdown",
   "metadata": {},
   "source": [
    "#### Data Manipulation with DataFrames"
   ]
  },
  {
   "cell_type": "code",
   "execution_count": 108,
   "metadata": {},
   "outputs": [
    {
     "data": {
      "text/html": [
       "<div>\n",
       "<style scoped>\n",
       "    .dataframe tbody tr th:only-of-type {\n",
       "        vertical-align: middle;\n",
       "    }\n",
       "\n",
       "    .dataframe tbody tr th {\n",
       "        vertical-align: top;\n",
       "    }\n",
       "\n",
       "    .dataframe thead th {\n",
       "        text-align: right;\n",
       "    }\n",
       "</style>\n",
       "<table border=\"1\" class=\"dataframe\">\n",
       "  <thead>\n",
       "    <tr style=\"text-align: right;\">\n",
       "      <th></th>\n",
       "      <th>name</th>\n",
       "      <th>age</th>\n",
       "      <th>city</th>\n",
       "    </tr>\n",
       "  </thead>\n",
       "  <tbody>\n",
       "    <tr>\n",
       "      <th>0</th>\n",
       "      <td>Nilanjan</td>\n",
       "      <td>21</td>\n",
       "      <td>Kolkata</td>\n",
       "    </tr>\n",
       "    <tr>\n",
       "      <th>1</th>\n",
       "      <td>Vikram</td>\n",
       "      <td>22</td>\n",
       "      <td>Delhi</td>\n",
       "    </tr>\n",
       "    <tr>\n",
       "      <th>2</th>\n",
       "      <td>Rahul</td>\n",
       "      <td>23</td>\n",
       "      <td>Mumbai</td>\n",
       "    </tr>\n",
       "    <tr>\n",
       "      <th>3</th>\n",
       "      <td>Snigdha</td>\n",
       "      <td>24</td>\n",
       "      <td>Chennai</td>\n",
       "    </tr>\n",
       "    <tr>\n",
       "      <th>4</th>\n",
       "      <td>Tina</td>\n",
       "      <td>25</td>\n",
       "      <td>Kolkata</td>\n",
       "    </tr>\n",
       "  </tbody>\n",
       "</table>\n",
       "</div>"
      ],
      "text/plain": [
       "       name  age     city\n",
       "0  Nilanjan   21  Kolkata\n",
       "1    Vikram   22    Delhi\n",
       "2     Rahul   23   Mumbai\n",
       "3   Snigdha   24  Chennai\n",
       "4      Tina   25  Kolkata"
      ]
     },
     "execution_count": 108,
     "metadata": {},
     "output_type": "execute_result"
    }
   ],
   "source": [
    "df.head(5)"
   ]
  },
  {
   "cell_type": "code",
   "execution_count": 133,
   "metadata": {},
   "outputs": [
    {
     "data": {
      "text/html": [
       "<div>\n",
       "<style scoped>\n",
       "    .dataframe tbody tr th:only-of-type {\n",
       "        vertical-align: middle;\n",
       "    }\n",
       "\n",
       "    .dataframe tbody tr th {\n",
       "        vertical-align: top;\n",
       "    }\n",
       "\n",
       "    .dataframe thead th {\n",
       "        text-align: right;\n",
       "    }\n",
       "</style>\n",
       "<table border=\"1\" class=\"dataframe\">\n",
       "  <thead>\n",
       "    <tr style=\"text-align: right;\">\n",
       "      <th></th>\n",
       "      <th>name</th>\n",
       "      <th>age</th>\n",
       "      <th>city</th>\n",
       "      <th>Salary</th>\n",
       "    </tr>\n",
       "  </thead>\n",
       "  <tbody>\n",
       "    <tr>\n",
       "      <th>0</th>\n",
       "      <td>Nilanjan</td>\n",
       "      <td>21</td>\n",
       "      <td>Kolkata</td>\n",
       "      <td>67825</td>\n",
       "    </tr>\n",
       "    <tr>\n",
       "      <th>1</th>\n",
       "      <td>Vikram</td>\n",
       "      <td>22</td>\n",
       "      <td>Delhi</td>\n",
       "      <td>74928</td>\n",
       "    </tr>\n",
       "    <tr>\n",
       "      <th>2</th>\n",
       "      <td>Rahul</td>\n",
       "      <td>23</td>\n",
       "      <td>Mumbai</td>\n",
       "      <td>63075</td>\n",
       "    </tr>\n",
       "    <tr>\n",
       "      <th>3</th>\n",
       "      <td>Snigdha</td>\n",
       "      <td>24</td>\n",
       "      <td>Chennai</td>\n",
       "      <td>64146</td>\n",
       "    </tr>\n",
       "    <tr>\n",
       "      <th>4</th>\n",
       "      <td>Tina</td>\n",
       "      <td>25</td>\n",
       "      <td>Kolkata</td>\n",
       "      <td>79871</td>\n",
       "    </tr>\n",
       "  </tbody>\n",
       "</table>\n",
       "</div>"
      ],
      "text/plain": [
       "       name  age     city  Salary\n",
       "0  Nilanjan   21  Kolkata   67825\n",
       "1    Vikram   22    Delhi   74928\n",
       "2     Rahul   23   Mumbai   63075\n",
       "3   Snigdha   24  Chennai   64146\n",
       "4      Tina   25  Kolkata   79871"
      ]
     },
     "execution_count": 133,
     "metadata": {},
     "output_type": "execute_result"
    }
   ],
   "source": [
    "# Add Salary column to the dataframe\n",
    "df['Salary'] = np.random.randint(50000, 80000, size=32).tolist()\n",
    "df.head(5)"
   ]
  },
  {
   "cell_type": "code",
   "execution_count": null,
   "metadata": {},
   "outputs": [],
   "source": [
    "## Remove a Column from the dataframe\n",
    "\n",
    "## By default axis=0, which means row, so we need to specify axis=1 to remove a column\n",
    "df.drop('Salary', axis=1, inplace=True) # and to make it permanent we need to set inplace=True"
   ]
  },
  {
   "cell_type": "code",
   "execution_count": null,
   "metadata": {},
   "outputs": [],
   "source": [
    "## Add Age to the Column\n",
    "\n",
    "df['age'] = df['age'] + 1"
   ]
  }
 ],
 "metadata": {
  "kernelspec": {
   "display_name": ".venv",
   "language": "python",
   "name": "python3"
  },
  "language_info": {
   "codemirror_mode": {
    "name": "ipython",
    "version": 3
   },
   "file_extension": ".py",
   "mimetype": "text/x-python",
   "name": "python",
   "nbconvert_exporter": "python",
   "pygments_lexer": "ipython3",
   "version": "3.11.9"
  }
 },
 "nbformat": 4,
 "nbformat_minor": 2
}
