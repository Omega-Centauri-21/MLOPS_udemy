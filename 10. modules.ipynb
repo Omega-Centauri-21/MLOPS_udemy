{
 "cells": [
  {
   "cell_type": "code",
   "execution_count": 1,
   "metadata": {},
   "outputs": [],
   "source": [
    "import os"
   ]
  },
  {
   "cell_type": "code",
   "execution_count": null,
   "metadata": {},
   "outputs": [
    {
     "data": {
      "text/plain": [
       "('c:\\\\Users\\\\Nilanjan\\\\Documents\\\\Code\\\\MLOPS_udemy',\n",
       " 'C:\\\\Users\\\\Nilanjan\\\\AppData\\\\Local\\\\Temp',\n",
       " 'Nilanjan',\n",
       " 'c:\\\\Users\\\\Nilanjan\\\\Documents\\\\Code\\\\MLOPS_udemy\\\\new_file.txt')"
      ]
     },
     "execution_count": 11,
     "metadata": {},
     "output_type": "execute_result"
    }
   ],
   "source": [
    "# os.mkdir('test')\n",
    "os.getcwd(), os.getenv('TEMP'), os.getlogin(),"
   ]
  },
  {
   "cell_type": "code",
   "execution_count": 12,
   "metadata": {},
   "outputs": [
    {
     "data": {
      "text/plain": [
       "'test/test.txt'"
      ]
     },
     "execution_count": 12,
     "metadata": {},
     "output_type": "execute_result"
    }
   ],
   "source": [
    "import shutil\n",
    "shutil.copy('test.txt', 'test/test.txt')"
   ]
  },
  {
   "cell_type": "code",
   "execution_count": 20,
   "metadata": {},
   "outputs": [
    {
     "name": "stdout",
     "output_type": "stream",
     "text": [
      "{\"name\": \"Nilanjan\", \"age\": 21, \"city\": \"Kolkata\"} <class 'str'>\n",
      "{'name': 'Nilanjan', 'age': 21, 'city': 'Kolkata'} <class 'dict'>\n"
     ]
    }
   ],
   "source": [
    "## Data Serialization\n",
    "\n",
    "import json\n",
    "\n",
    "data = {'name': 'Nilanjan', 'age': 21, 'city': 'Kolkata'}\n",
    "\n",
    "json_str = json.dumps(data)\n",
    "print(json_str, type(json_str))\n",
    "\n",
    "parsed_data = json.loads(json_str)\n",
    "print(parsed_data, type(parsed_data))"
   ]
  },
  {
   "cell_type": "code",
   "execution_count": 22,
   "metadata": {},
   "outputs": [
    {
     "name": "stdout",
     "output_type": "stream",
     "text": [
      "['name', 'age', 'city']\n",
      "['Nilanjan', '21', 'Kolkata']\n"
     ]
    }
   ],
   "source": [
    "## csv\n",
    "\n",
    "import csv\n",
    "\n",
    "with open('example.csv', mode='w', newline='') as file:\n",
    "    writer = csv.writer(file)\n",
    "    writer.writerow(['name', 'age', 'city'])\n",
    "    writer.writerow(['Nilanjan', 21, 'Kolkata'])\n",
    "\n",
    "with open('example.csv', mode='r') as file:\n",
    "    reader = csv.reader(file)\n",
    "    for row in reader:\n",
    "        print(row)"
   ]
  },
  {
   "cell_type": "code",
   "execution_count": 23,
   "metadata": {},
   "outputs": [
    {
     "name": "stdout",
     "output_type": "stream",
     "text": [
      "2024-11-20 14:45:32.293892\n",
      "2024-11-19 14:45:32.293892\n"
     ]
    }
   ],
   "source": [
    "from datetime import datetime, timedelta\n",
    "\n",
    "now = datetime.now()\n",
    "print(now)\n",
    "\n",
    "yestarday = now - timedelta(days=1)\n",
    "print(yestarday)"
   ]
  },
  {
   "cell_type": "code",
   "execution_count": 27,
   "metadata": {},
   "outputs": [
    {
     "name": "stdout",
     "output_type": "stream",
     "text": [
      "123898\n"
     ]
    }
   ],
   "source": [
    "## Regular Expressions\n",
    "\n",
    "import re\n",
    "\n",
    "pattern = r'\\d+'\n",
    "text = 'There are 123898 apples in the basket and 10 bananas in the fridge and 1 orange in the kitchen and 2 mangoes in the garden and 3 guavas in the backyard and 4 pineapples in the store\\\n",
    "    and 5 watermelons in the market and 6 grapes in the vineyard and 7 cherries in the orchard and 8 strawberries in the field and 9 blueberries in the forest and 10 raspberries in the jungle'\n",
    "\n",
    "match = re.search(pattern, text)\n",
    "print(match.group())"
   ]
  },
  {
   "cell_type": "code",
   "execution_count": 31,
   "metadata": {},
   "outputs": [],
   "source": [
    "shutil.unpack_archive('packagessolution.zip', 'coursework_packages')\n",
    "# os.rmdir('coursework_packages')\n",
    "shutil.rmtree('coursework_packages')"
   ]
  }
 ],
 "metadata": {
  "kernelspec": {
   "display_name": "Python 3",
   "language": "python",
   "name": "python3"
  },
  "language_info": {
   "codemirror_mode": {
    "name": "ipython",
    "version": 3
   },
   "file_extension": ".py",
   "mimetype": "text/x-python",
   "name": "python",
   "nbconvert_exporter": "python",
   "pygments_lexer": "ipython3",
   "version": "3.11.9"
  }
 },
 "nbformat": 4,
 "nbformat_minor": 2
}
